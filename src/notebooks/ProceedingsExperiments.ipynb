{
 "cells": [
  {
   "cell_type": "code",
   "execution_count": 1,
   "metadata": {
    "collapsed": false,
    "jupyter": {
     "outputs_hidden": false
    },
    "pycharm": {
     "name": "#%%\n"
    }
   },
   "outputs": [
    {
     "name": "stderr",
     "output_type": "stream",
     "text": [
      "/home/callum/Repos/adaptive-pinns/venv/lib/python3.6/site-packages/tensorflow/python/framework/dtypes.py:526: FutureWarning: Passing (type, 1) or '1type' as a synonym of type is deprecated; in a future version of numpy, it will be understood as (type, (1,)) / '(1,)type'.\n",
      "  _np_qint8 = np.dtype([(\"qint8\", np.int8, 1)])\n",
      "/home/callum/Repos/adaptive-pinns/venv/lib/python3.6/site-packages/tensorflow/python/framework/dtypes.py:527: FutureWarning: Passing (type, 1) or '1type' as a synonym of type is deprecated; in a future version of numpy, it will be understood as (type, (1,)) / '(1,)type'.\n",
      "  _np_quint8 = np.dtype([(\"quint8\", np.uint8, 1)])\n",
      "/home/callum/Repos/adaptive-pinns/venv/lib/python3.6/site-packages/tensorflow/python/framework/dtypes.py:528: FutureWarning: Passing (type, 1) or '1type' as a synonym of type is deprecated; in a future version of numpy, it will be understood as (type, (1,)) / '(1,)type'.\n",
      "  _np_qint16 = np.dtype([(\"qint16\", np.int16, 1)])\n",
      "/home/callum/Repos/adaptive-pinns/venv/lib/python3.6/site-packages/tensorflow/python/framework/dtypes.py:529: FutureWarning: Passing (type, 1) or '1type' as a synonym of type is deprecated; in a future version of numpy, it will be understood as (type, (1,)) / '(1,)type'.\n",
      "  _np_quint16 = np.dtype([(\"quint16\", np.uint16, 1)])\n",
      "/home/callum/Repos/adaptive-pinns/venv/lib/python3.6/site-packages/tensorflow/python/framework/dtypes.py:530: FutureWarning: Passing (type, 1) or '1type' as a synonym of type is deprecated; in a future version of numpy, it will be understood as (type, (1,)) / '(1,)type'.\n",
      "  _np_qint32 = np.dtype([(\"qint32\", np.int32, 1)])\n",
      "/home/callum/Repos/adaptive-pinns/venv/lib/python3.6/site-packages/tensorflow/python/framework/dtypes.py:535: FutureWarning: Passing (type, 1) or '1type' as a synonym of type is deprecated; in a future version of numpy, it will be understood as (type, (1,)) / '(1,)type'.\n",
      "  np_resource = np.dtype([(\"resource\", np.ubyte, 1)])\n"
     ]
    }
   ],
   "source": [
    "import matplotlib.pylab as plt\n",
    "import seaborn as sns\n",
    "import numpy as np\n",
    "import pandas as pd\n",
    "\n",
    "import sys \n",
    "import os\n",
    "src_path = os.path.abspath(os.path.join(os.getcwd(), os.pardir))\n",
    "project_path = os.path.abspath(os.path.join(src_path, os.pardir))\n",
    "sys.path.insert(1, src_path)\n",
    "sys.path.insert(1, project_path)\n",
    "\n",
    "from experiments.experiment_main import prediction_plot, error_plots_flexible, collect_data, L2, H1, models_color_dict\n",
    "from src.experiments.Proceedings.parameters import epsilons2try\n",
    "from experiments.Proceedings.parameters import k, alpha\n",
    "\n",
    "import ipywidgets as widgets"
   ]
  },
  {
   "cell_type": "markdown",
   "metadata": {
    "pycharm": {
     "name": "#%% md\n"
    }
   },
   "source": [
    "# Visualizing experiments\n",
    "\n",
    "Explore how each method behaves for different $\\varepsilon$, K, float_precision, sampling method."
   ]
  },
  {
   "cell_type": "code",
   "execution_count": 2,
   "metadata": {
    "collapsed": false,
    "jupyter": {
     "outputs_hidden": false
    },
    "pycharm": {
     "name": "#%%\n"
    }
   },
   "outputs": [],
   "source": [
    "data_experiment_name = \"Proceedings\""
   ]
  },
  {
   "cell_type": "markdown",
   "metadata": {
    "pycharm": {
     "name": "#%% md\n"
    }
   },
   "source": [
    "### Time and accuracy"
   ]
  },
  {
   "cell_type": "code",
   "execution_count": 3,
   "metadata": {
    "collapsed": false,
    "jupyter": {
     "outputs_hidden": false
    },
    "pycharm": {
     "name": "#%%\n"
    }
   },
   "outputs": [
    {
     "name": "stdout",
     "output_type": "stream",
     "text": [
      "n_train\n",
      "\n",
      "\n",
      "\n",
      "\n",
      "\n",
      "\n",
      " All the calculations are:  0 \n",
      "\n",
      "\n",
      "\n",
      "\n",
      "\n",
      "\n"
     ]
    },
    {
     "data": {
      "application/vnd.jupyter.widget-view+json": {
       "model_id": "487a173afee04ac482b3e74127d92c84",
       "version_major": 2,
       "version_minor": 0
      },
      "text/plain": [
       "interactive(children=(Dropdown(description='$\\\\varepsilon$: ', options=(0.005, 0.008, 0.014, 0.023, 0.039, 0.0…"
      ]
     },
     "metadata": {},
     "output_type": "display_data"
    },
    {
     "data": {
      "text/plain": [
       "<function __main__.jupyter_plot_computation_time_accuracy(epsilon, error, float_precision, sampler)>"
      ]
     },
     "execution_count": 3,
     "metadata": {},
     "output_type": "execute_result"
    }
   ],
   "source": [
    "from experiments.Proceedings.n_train import n_train\n",
    "from experiments.Proceedings.n_train import float_precision\n",
    "from experiments.Proceedings.n_train import sampler\n",
    "\n",
    "def jupyter_plot_computation_time_accuracy(epsilon, error, float_precision, sampler):\n",
    "    df, predictions, true_solutions = collect_data(data_experiment_name, k=k, alpha=alpha, n_train=n_train, sampler=[sampler], float_precision=[float_precision])\n",
    "    filter_dict = {\"epsilon\": epsilon}\n",
    "    \n",
    "    fig, ax = plt.subplots(ncols=2, figsize=(14, 6))\n",
    "    \n",
    "    sns.boxenplot(data=df[(df[list(filter_dict)] == pd.Series(filter_dict)).all(axis=1)], y=\"time\", x=\"model_name\",\n",
    "                  hue=\"n_train\", ax=ax[0])\n",
    "    ax[0].set_yscale(\"log\")\n",
    "    ax[0].set_title(\"Computing time\")\n",
    "    \n",
    "    sns.boxenplot(data=df[(df[list(filter_dict)] == pd.Series(filter_dict)).all(axis=1)], y=H1, x=\"model_name\",\n",
    "                  hue=\"n_train\", ax=ax[1])\n",
    "    ax[1].set_yscale(\"log\")\n",
    "    ax[1].set_title(\"Accuracy by number of train sampling points.\")\n",
    "    \n",
    "    plt.show()\n",
    "\n",
    "    \n",
    "widgets.interact(\n",
    "    jupyter_plot_computation_time_accuracy,\n",
    "    epsilon=widgets.Dropdown(options=epsilons2try.tolist(), description=r'$\\varepsilon$: '),\n",
    "    error=widgets.Dropdown(options=[L2, H1], description='Error: '),\n",
    "    float_precision=widgets.Dropdown(options=float_precision, description='Float precision: '),\n",
    "    sampler=widgets.Dropdown(options=sampler, description='Sampling method: ')\n",
    "    )"
   ]
  },
  {
   "cell_type": "markdown",
   "metadata": {
    "pycharm": {
     "name": "#%% md\n"
    }
   },
   "source": [
    "### Varying K, sampling method or float precision"
   ]
  },
  {
   "cell_type": "code",
   "execution_count": 4,
   "metadata": {
    "collapsed": false,
    "jupyter": {
     "outputs_hidden": false
    },
    "pycharm": {
     "name": "#%%\n"
    }
   },
   "outputs": [],
   "source": [
    "experiment = \"n_train\" # \"sampling_method\" \"float_precision\""
   ]
  },
  {
   "cell_type": "markdown",
   "metadata": {
    "pycharm": {
     "name": "#%% md\n"
    }
   },
   "source": [
    "#### Exploring error curves"
   ]
  },
  {
   "cell_type": "code",
   "execution_count": 5,
   "metadata": {
    "collapsed": false,
    "jupyter": {
     "outputs_hidden": false
    },
    "pycharm": {
     "name": "#%%\n"
    }
   },
   "outputs": [
    {
     "data": {
      "application/vnd.jupyter.widget-view+json": {
       "model_id": "a8524f1986154d58ba7af2e02144a023",
       "version_major": 2,
       "version_minor": 0
      },
      "text/plain": [
       "interactive(children=(Dropdown(description='Summary statistic: ', options=('min', 'max', 'median', 'mean'), va…"
      ]
     },
     "metadata": {},
     "output_type": "display_data"
    },
    {
     "data": {
      "text/plain": [
       "<function __main__.jupyter_plot_error_curves(statistic, error, n_train, float_precision, sampler)>"
      ]
     },
     "execution_count": 5,
     "metadata": {},
     "output_type": "execute_result"
    }
   ],
   "source": [
    "summary_stattistic_functions_dict = {\"min\": np.min, \"max\": np.max, \"median\": np.median, \"mean\": np.mean} \n",
    "\n",
    "def jupyter_plot_error_curves(statistic, error, n_train, float_precision, sampler):\n",
    "    aggfunc = summary_stattistic_functions_dict[statistic]\n",
    "    df, predictions, true_solutions = collect_data(data_experiment_name, k=k, alpha=alpha, n_train=[n_train], sampler=[sampler], float_precision=[float_precision])\n",
    "    fig, ax = plt.subplots(figsize=(12, 6))\n",
    "    error_plots_flexible(df, ax, error_name=error, label_var=\"model_name\", x_var=\"epsilon\",\n",
    "                         aggfunc=aggfunc, color_dict=models_color_dict, n_train=n_train)\n",
    "    ax.set_ylim((1e-9, 1))\n",
    "    plt.show()\n",
    "    \n",
    "widgets.interact(\n",
    "    jupyter_plot_error_curves,\n",
    "    statistic=widgets.Dropdown(options=list(summary_stattistic_functions_dict.keys()), description='Summary statistic: '),\n",
    "    error=widgets.Dropdown(options=[L2, H1], description='Error: '),\n",
    "    n_train=widgets.Dropdown(options=n_train, description='N train: '),\n",
    "    float_precision=widgets.Dropdown(options=float_precision, description='Float precision: '),\n",
    "    sampler=widgets.Dropdown(options=sampler, description='Sampling method: ')\n",
    "    )"
   ]
  },
  {
   "cell_type": "code",
   "execution_count": 6,
   "metadata": {
    "collapsed": false,
    "jupyter": {
     "outputs_hidden": false
    },
    "pycharm": {
     "name": "#%%\n"
    }
   },
   "outputs": [],
   "source": [
    "if experiment == \"n_train\":\n",
    "    from experiments.Proceedings.n_train import n_train\n",
    "    from experiments.Proceedings.n_train import float_precision\n",
    "    from experiments.Proceedings.n_train import sampler\n",
    "elif experiment == \"sampling_method\":\n",
    "    from experiments.Proceedings.sampling_method import n_train\n",
    "    from experiments.Proceedings.sampling_method import float_precision\n",
    "    from experiments.Proceedings.sampling_method import sampler\n",
    "elif experiment == \"float_precision\":\n",
    "    from experiments.Proceedings.float_precision import n_train\n",
    "    from experiments.Proceedings.float_precision import float_precision\n",
    "    from experiments.Proceedings.float_precision import sampler\n",
    "else:\n",
    "    raise Exception(\"Only n_train, sampling_method and float_precision experiments are specyfied.\")"
   ]
  },
  {
   "cell_type": "markdown",
   "metadata": {
    "pycharm": {
     "name": "#%% md\n"
    }
   },
   "source": [
    "#### Exploring shape of approximated solutions"
   ]
  },
  {
   "cell_type": "code",
   "execution_count": 7,
   "metadata": {
    "collapsed": false,
    "jupyter": {
     "outputs_hidden": false
    },
    "pycharm": {
     "name": "#%%\n"
    }
   },
   "outputs": [
    {
     "data": {
      "application/vnd.jupyter.widget-view+json": {
       "model_id": "1d35e980851c4781af6548fe7cca5e5f",
       "version_major": 2,
       "version_minor": 0
      },
      "text/plain": [
       "interactive(children=(Dropdown(description='$\\\\varepsilon$: ', options=(0.005, 0.008, 0.014, 0.023, 0.039, 0.0…"
      ]
     },
     "metadata": {},
     "output_type": "display_data"
    },
    {
     "data": {
      "text/plain": [
       "<function __main__.jupyter_plot_predictions(epsilon, error, n_train, float_precision, sampler)>"
      ]
     },
     "execution_count": 7,
     "metadata": {},
     "output_type": "execute_result"
    }
   ],
   "source": [
    "def jupyter_plot_predictions(epsilon, error, n_train, float_precision, sampler):\n",
    "\n",
    "    df, predictions, true_solutions = collect_data(data_experiment_name, k=k, alpha=alpha, sampler=[sampler], float_precision=[float_precision])\n",
    "    fig, ax = plt.subplots(figsize=(12, 6))\n",
    "    prediction_plot(df, predictions, true_solutions, ax, error, n_train, float_precision, sampler, epsilon)\n",
    "    plt.show()\n",
    "    \n",
    "widgets.interact(\n",
    "    jupyter_plot_predictions,\n",
    "    epsilon=widgets.Dropdown(options=epsilons2try.tolist(), description=r'$\\varepsilon$: '),\n",
    "    error=widgets.Dropdown(options=[L2, H1], description='Error: '),\n",
    "    n_train=widgets.Dropdown(options=n_train, description='N train: '),\n",
    "    float_precision=widgets.Dropdown(options=float_precision, description='Float precision: '),\n",
    "    sampler=widgets.Dropdown(options=sampler, description='Sampling method: ')\n",
    "    )"
   ]
  },
  {
   "cell_type": "markdown",
   "metadata": {
    "pycharm": {
     "name": "#%% md\n"
    }
   },
   "source": [
    "#### Exploring error curves"
   ]
  },
  {
   "cell_type": "code",
   "execution_count": 8,
   "metadata": {
    "pycharm": {
     "name": "#%%\n"
    }
   },
   "outputs": [
    {
     "data": {
      "application/vnd.jupyter.widget-view+json": {
       "model_id": "765ae338aa4947e5b41d4bff589f555b",
       "version_major": 2,
       "version_minor": 0
      },
      "text/plain": [
       "interactive(children=(Dropdown(description='Summary statistic: ', options=('min', 'max', 'median', 'mean'), va…"
      ]
     },
     "metadata": {},
     "output_type": "display_data"
    },
    {
     "data": {
      "text/plain": [
       "<function __main__.jupyter_plot_error_curves(statistic, error, n_train, float_precision, sampler)>"
      ]
     },
     "execution_count": 8,
     "metadata": {},
     "output_type": "execute_result"
    }
   ],
   "source": [
    "summary_stattistic_functions_dict = {\"min\": np.min, \"max\": np.max, \"median\": np.median, \"mean\": np.mean} \n",
    "\n",
    "def jupyter_plot_error_curves(statistic, error, n_train, float_precision, sampler):\n",
    "    aggfunc = summary_stattistic_functions_dict[statistic]\n",
    "    df, predictions, true_solutions = collect_data(data_experiment_name, k=k, alpha=alpha, n_train=[n_train], sampler=[sampler], float_precision=[float_precision])\n",
    "    fig, ax = plt.subplots(figsize=(12, 6))\n",
    "    error_plots_flexible(df, ax, error_name=error, label_var=\"model_name\", x_var=\"epsilon\",\n",
    "                         aggfunc=aggfunc, color_dict=models_color_dict, n_train=n_train)\n",
    "    ax.set_ylim((1e-9, 1))\n",
    "    plt.show()\n",
    "    \n",
    "widgets.interact(\n",
    "    jupyter_plot_error_curves,\n",
    "    statistic=widgets.Dropdown(options=list(summary_stattistic_functions_dict.keys()), description='Summary statistic: '),\n",
    "    error=widgets.Dropdown(options=[L2, H1], description='Error: '),\n",
    "    n_train=widgets.Dropdown(options=n_train, description='N train: '),\n",
    "    float_precision=widgets.Dropdown(options=float_precision, description='Float precision: '),\n",
    "    sampler=widgets.Dropdown(options=sampler, description='Sampling method: ')\n",
    "    )"
   ]
  },
  {
   "cell_type": "code",
   "execution_count": 9,
   "metadata": {
    "jupyter": {
     "source_hidden": true
    },
    "pycharm": {
     "name": "#%%\n"
    }
   },
   "outputs": [],
   "source": [
    "if experiment == \"n_train\":\n",
    "    from experiments.Proceedings.n_train import n_train\n",
    "    from experiments.Proceedings.n_train import float_precision\n",
    "    from experiments.Proceedings.n_train import sampler\n",
    "elif experiment == \"sampling_method\":\n",
    "    from experiments.Proceedings.sampling_method import n_train\n",
    "    from experiments.Proceedings.sampling_method import float_precision\n",
    "    from experiments.Proceedings.sampling_method import sampler\n",
    "elif experiment == \"float_precision\":\n",
    "    from experiments.Proceedings.float_precision import n_train\n",
    "    from experiments.Proceedings.float_precision import float_precision\n",
    "    from experiments.Proceedings.float_precision import sampler\n",
    "else:\n",
    "    raise Exception(\"Only n_train, sampling_method and float_precision experiments are specyfied.\")"
   ]
  },
  {
   "cell_type": "markdown",
   "metadata": {
    "pycharm": {
     "name": "#%% md\n"
    }
   },
   "source": [
    "#### Exploring shape of approximated solutions"
   ]
  },
  {
   "cell_type": "code",
   "execution_count": 10,
   "metadata": {
    "pycharm": {
     "name": "#%%\n"
    }
   },
   "outputs": [
    {
     "data": {
      "application/vnd.jupyter.widget-view+json": {
       "model_id": "802c5de8493b4773bcdbe6fd36be9cff",
       "version_major": 2,
       "version_minor": 0
      },
      "text/plain": [
       "interactive(children=(Dropdown(description='$\\\\varepsilon$: ', options=(0.005, 0.008, 0.014, 0.023, 0.039, 0.0…"
      ]
     },
     "metadata": {},
     "output_type": "display_data"
    },
    {
     "data": {
      "text/plain": [
       "<function __main__.jupyter_plot_predictions(epsilon, error, n_train, float_precision, sampler)>"
      ]
     },
     "execution_count": 10,
     "metadata": {},
     "output_type": "execute_result"
    }
   ],
   "source": [
    "def jupyter_plot_predictions(epsilon, error, n_train, float_precision, sampler):\n",
    "\n",
    "    df, predictions, true_solutions = collect_data(data_experiment_name, k=k, alpha=alpha, sampler=[sampler], float_precision=[float_precision])\n",
    "    fig, ax = plt.subplots(figsize=(12, 6))\n",
    "    prediction_plot(df, predictions, true_solutions, ax, error, n_train, float_precision, sampler, epsilon)\n",
    "    plt.show()\n",
    "    \n",
    "widgets.interact(\n",
    "    jupyter_plot_predictions,\n",
    "    epsilon=widgets.Dropdown(options=epsilons2try.tolist(), description=r'$\\varepsilon$: '),\n",
    "    error=widgets.Dropdown(options=[L2, H1], description='Error: '),\n",
    "    n_train=widgets.Dropdown(options=n_train, description='N train: '),\n",
    "    float_precision=widgets.Dropdown(options=float_precision, description='Float precision: '),\n",
    "    sampler=widgets.Dropdown(options=sampler, description='Sampling method: ')\n",
    "    )"
   ]
  }
 ],
 "metadata": {
  "kernelspec": {
   "display_name": "adaptive-pinns-venv",
   "language": "python",
   "name": "venv"
  },
  "language_info": {
   "codemirror_mode": {
    "name": "ipython",
    "version": 3
   },
   "file_extension": ".py",
   "mimetype": "text/x-python",
   "name": "python",
   "nbconvert_exporter": "python",
   "pygments_lexer": "ipython3",
   "version": "3.6.9"
  }
 },
 "nbformat": 4,
 "nbformat_minor": 4
}
