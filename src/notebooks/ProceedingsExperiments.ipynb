{
 "cells": [
  {
   "cell_type": "code",
   "execution_count": null,
   "outputs": [],
   "source": [
    "import matplotlib.pylab as plt\n",
    "import seaborn as sns\n",
    "import numpy as np\n",
    "import pandas as pd\n",
    "\n",
    "from experiments.experiment_main import prediction_plot, error_plots_flexible, collect_data, L2, H1, models_color_dict\n",
    "from src.experiments.Proceedings.parameters import epsilons2try\n",
    "from experiments.Proceedings.parameters import k, alpha\n",
    "\n",
    "import ipywidgets as widgets"
   ],
   "metadata": {
    "collapsed": false,
    "pycharm": {
     "name": "#%%\n"
    }
   }
  },
  {
   "cell_type": "markdown",
   "source": [
    "# Visualizing experiments\n",
    "\n",
    "Explore how each method behaves for different $\\varepsilon$, K, float_precision, sampling method."
   ],
   "metadata": {
    "collapsed": false,
    "pycharm": {
     "name": "#%% md\n"
    }
   }
  },
  {
   "cell_type": "code",
   "execution_count": null,
   "outputs": [],
   "source": [
    "data_experiment_name = \"Proceedings\""
   ],
   "metadata": {
    "collapsed": false,
    "pycharm": {
     "name": "#%%\n"
    }
   }
  },
  {
   "cell_type": "markdown",
   "source": [
    "### Time and accuracy"
   ],
   "metadata": {
    "collapsed": false,
    "pycharm": {
     "name": "#%% md\n"
    }
   }
  },
  {
   "cell_type": "code",
   "execution_count": null,
   "outputs": [],
   "source": [
    "from experiments.Proceedings.n_train import n_train\n",
    "from experiments.Proceedings.n_train import float_precision\n",
    "from experiments.Proceedings.n_train import sampler\n",
    "\n",
    "def jupyter_plot_computation_time_accuracy(epsilon, error, float_precision, sampler):\n",
    "    df, predictions, true_solutions = collect_data(data_experiment_name, k=k, alpha=alpha, n_train=n_train, sampler=[sampler], float_precision=[float_precision])\n",
    "    filter_dict = {\"epsilon\": epsilon}\n",
    "    \n",
    "    fig, ax = plt.subplots(ncols=2, figsize=(14, 6))\n",
    "    \n",
    "    sns.boxenplot(data=df[(df[list(filter_dict)] == pd.Series(filter_dict)).all(axis=1)], y=\"time\", x=\"model_name\",\n",
    "                  hue=\"n_train\", ax=ax[0])\n",
    "    ax[0].set_yscale(\"log\")\n",
    "    ax[0].set_title(\"Computing time\")\n",
    "    \n",
    "    sns.boxenplot(data=df[(df[list(filter_dict)] == pd.Series(filter_dict)).all(axis=1)], y=H1, x=\"model_name\",\n",
    "                  hue=\"n_train\", ax=ax[1])\n",
    "    ax[1].set_yscale(\"log\")\n",
    "    ax[1].set_title(\"Accuracy by number of train sampling points.\")\n",
    "    \n",
    "    plt.show()\n",
    "\n",
    "    \n",
    "widgets.interact(\n",
    "    jupyter_plot_computation_time_accuracy,\n",
    "    epsilon=widgets.Dropdown(options=epsilons2try.tolist(), description=r'$\\varepsilon$: '),\n",
    "    error=widgets.Dropdown(options=[L2, H1], description='Error: '),\n",
    "    float_precision=widgets.Dropdown(options=float_precision, description='Float precision: '),\n",
    "    sampler=widgets.Dropdown(options=sampler, description='Sampling method: ')\n",
    "    )"
   ],
   "metadata": {
    "collapsed": false,
    "pycharm": {
     "name": "#%%\n"
    }
   }
  },
  {
   "cell_type": "markdown",
   "source": [
    "### Varying K, sampling method or float precision"
   ],
   "metadata": {
    "collapsed": false,
    "pycharm": {
     "name": "#%% md\n"
    }
   }
  },
  {
   "cell_type": "code",
   "execution_count": null,
   "outputs": [],
   "source": [
    "experiment = \"n_train\" # \"sampling_method\" \"float_precision\""
   ],
   "metadata": {
    "collapsed": false,
    "pycharm": {
     "name": "#%%\n"
    }
   }
  },
  {
   "cell_type": "markdown",
   "source": [
    "#### Exploring error curves"
   ],
   "metadata": {
    "collapsed": false,
    "pycharm": {
     "name": "#%% md\n"
    }
   }
  },
  {
   "cell_type": "code",
   "execution_count": null,
   "outputs": [],
   "source": [
    "summary_stattistic_functions_dict = {\"min\": np.min, \"max\": np.max, \"median\": np.median, \"mean\": np.mean} \n",
    "\n",
    "def jupyter_plot_error_curves(statistic, error, n_train, float_precision, sampler):\n",
    "    aggfunc = summary_stattistic_functions_dict[statistic]\n",
    "    df, predictions, true_solutions = collect_data(data_experiment_name, k=k, alpha=alpha, n_train=[n_train], sampler=[sampler], float_precision=[float_precision])\n",
    "    fig, ax = plt.subplots(figsize=(12, 6))\n",
    "    error_plots_flexible(df, ax, error_name=error, label_var=\"model_name\", x_var=\"epsilon\",\n",
    "                         aggfunc=aggfunc, color_dict=models_color_dict, n_train=n_train)\n",
    "    ax.set_ylim((1e-9, 1))\n",
    "    plt.show()\n",
    "    \n",
    "widgets.interact(\n",
    "    jupyter_plot_error_curves,\n",
    "    statistic=widgets.Dropdown(options=list(summary_stattistic_functions_dict.keys()), description='Summary statistic: '),\n",
    "    error=widgets.Dropdown(options=[L2, H1], description='Error: '),\n",
    "    n_train=widgets.Dropdown(options=n_train, description='N train: '),\n",
    "    float_precision=widgets.Dropdown(options=float_precision, description='Float precision: '),\n",
    "    sampler=widgets.Dropdown(options=sampler, description='Sampling method: ')\n",
    "    )"
   ],
   "metadata": {
    "collapsed": false,
    "pycharm": {
     "name": "#%%\n"
    }
   }
  },
  {
   "cell_type": "code",
   "execution_count": null,
   "outputs": [],
   "source": [
    "if experiment == \"n_train\":\n",
    "    from experiments.Proceedings.n_train import n_train\n",
    "    from experiments.Proceedings.n_train import float_precision\n",
    "    from experiments.Proceedings.n_train import sampler\n",
    "elif experiment == \"sampling_method\":\n",
    "    from experiments.Proceedings.sampling_method import n_train\n",
    "    from experiments.Proceedings.sampling_method import float_precision\n",
    "    from experiments.Proceedings.sampling_method import sampler\n",
    "elif experiment == \"float_precision\":\n",
    "    from experiments.Proceedings.float_precision import n_train\n",
    "    from experiments.Proceedings.float_precision import float_precision\n",
    "    from experiments.Proceedings.float_precision import sampler\n",
    "else:\n",
    "    raise Exception(\"Only n_train, sampling_method and float_precision experiments are specyfied.\")"
   ],
   "metadata": {
    "collapsed": false,
    "pycharm": {
     "name": "#%%\n"
    }
   }
  },
  {
   "cell_type": "markdown",
   "source": [
    "#### Exploring shape of approximated solutions"
   ],
   "metadata": {
    "collapsed": false,
    "pycharm": {
     "name": "#%% md\n"
    }
   }
  },
  {
   "cell_type": "code",
   "execution_count": null,
   "outputs": [],
   "source": [
    "def jupyter_plot_predictions(epsilon, error, n_train, float_precision, sampler):\n",
    "\n",
    "    df, predictions, true_solutions = collect_data(data_experiment_name, k=k, alpha=alpha, sampler=[sampler], float_precision=[float_precision])\n",
    "    fig, ax = plt.subplots(figsize=(12, 6))\n",
    "    prediction_plot(df, predictions, true_solutions, ax, error, n_train, float_precision, sampler, epsilon)\n",
    "    plt.show()\n",
    "    \n",
    "widgets.interact(\n",
    "    jupyter_plot_predictions,\n",
    "    epsilon=widgets.Dropdown(options=epsilons2try.tolist(), description=r'$\\varepsilon$: '),\n",
    "    error=widgets.Dropdown(options=[L2, H1], description='Error: '),\n",
    "    n_train=widgets.Dropdown(options=n_train, description='N train: '),\n",
    "    float_precision=widgets.Dropdown(options=float_precision, description='Float precision: '),\n",
    "    sampler=widgets.Dropdown(options=sampler, description='Sampling method: ')\n",
    "    )"
   ],
   "metadata": {
    "collapsed": false,
    "pycharm": {
     "name": "#%%\n"
    }
   }
  },
  {
   "cell_type": "markdown",
   "metadata": {},
   "source": [
    "#### Exploring error curves"
   ]
  },
  {
   "cell_type": "code",
   "execution_count": 5,
   "metadata": {},
   "outputs": [
    {
     "data": {
      "application/vnd.jupyter.widget-view+json": {
       "model_id": "aaed07b110ac4888b77771b80703454d",
       "version_major": 2,
       "version_minor": 0
      },
      "text/plain": [
       "interactive(children=(Dropdown(description='Summary statistic: ', options=('min', 'max', 'median', 'mean'), va…"
      ]
     },
     "metadata": {},
     "output_type": "display_data"
    },
    {
     "data": {
      "text/plain": [
       "<function __main__.jupyter_plot_error_curves(statistic, error, n_train, float_precision, sampler)>"
      ]
     },
     "execution_count": 5,
     "metadata": {},
     "output_type": "execute_result"
    }
   ],
   "source": [
    "summary_stattistic_functions_dict = {\"min\": np.min, \"max\": np.max, \"median\": np.median, \"mean\": np.mean} \n",
    "\n",
    "def jupyter_plot_error_curves(statistic, error, n_train, float_precision, sampler):\n",
    "    aggfunc = summary_stattistic_functions_dict[statistic]\n",
    "    df, predictions, true_solutions = collect_data(data_experiment_name, k=k, alpha=alpha, n_train=[n_train], sampler=[sampler], float_precision=[float_precision])\n",
    "    fig, ax = plt.subplots(figsize=(12, 6))\n",
    "    error_plots_flexible(df, ax, error_name=error, label_var=\"model_name\", x_var=\"epsilon\",\n",
    "                         aggfunc=aggfunc, color_dict=models_color_dict, n_train=n_train)\n",
    "    ax.set_ylim((1e-9, 1))\n",
    "    plt.show()\n",
    "    \n",
    "widgets.interact(\n",
    "    jupyter_plot_error_curves,\n",
    "    statistic=widgets.Dropdown(options=list(summary_stattistic_functions_dict.keys()), description='Summary statistic: '),\n",
    "    error=widgets.Dropdown(options=[L2, H1], description='Error: '),\n",
    "    n_train=widgets.Dropdown(options=n_train, description='N train: '),\n",
    "    float_precision=widgets.Dropdown(options=float_precision, description='Float precision: '),\n",
    "    sampler=widgets.Dropdown(options=sampler, description='Sampling method: ')\n",
    "    )"
   ]
  },
  {
   "cell_type": "code",
   "execution_count": 6,
   "metadata": {
    "jupyter": {
     "source_hidden": true
    }
   },
   "outputs": [],
   "source": [
    "if experiment == \"n_train\":\n",
    "    from experiments.Proceedings.n_train import n_train\n",
    "    from experiments.Proceedings.n_train import float_precision\n",
    "    from experiments.Proceedings.n_train import sampler\n",
    "elif experiment == \"sampling_method\":\n",
    "    from experiments.Proceedings.sampling_method import n_train\n",
    "    from experiments.Proceedings.sampling_method import float_precision\n",
    "    from experiments.Proceedings.sampling_method import sampler\n",
    "elif experiment == \"float_precision\":\n",
    "    from experiments.Proceedings.float_precision import n_train\n",
    "    from experiments.Proceedings.float_precision import float_precision\n",
    "    from experiments.Proceedings.float_precision import sampler\n",
    "else:\n",
    "    raise Exception(\"Only n_train, sampling_method and float_precision experiments are specyfied.\")"
   ]
  },
  {
   "cell_type": "markdown",
   "metadata": {},
   "source": [
    "#### Exploring shape of approximated solutions"
   ]
  },
  {
   "cell_type": "code",
   "execution_count": 7,
   "metadata": {
    "pycharm": {
     "name": "#%%\n"
    }
   },
   "outputs": [
    {
     "data": {
      "application/vnd.jupyter.widget-view+json": {
       "model_id": "0e18865115904e9681bfb2aef90a6aa3",
       "version_major": 2,
       "version_minor": 0
      },
      "text/plain": [
       "interactive(children=(Dropdown(description='$\\\\varepsilon$: ', options=(0.005, 0.008, 0.014, 0.023, 0.039, 0.0…"
      ]
     },
     "metadata": {},
     "output_type": "display_data"
    },
    {
     "data": {
      "text/plain": [
       "<function __main__.jupyter_plot_predictions(epsilon, error, n_train, float_precision, sampler)>"
      ]
     },
     "execution_count": 7,
     "metadata": {},
     "output_type": "execute_result"
    }
   ],
   "source": [
    "def jupyter_plot_predictions(epsilon, error, n_train, float_precision, sampler):\n",
    "\n",
    "    df, predictions, true_solutions = collect_data(data_experiment_name, k=k, alpha=alpha, sampler=[sampler], float_precision=[float_precision])\n",
    "    fig, ax = plt.subplots(figsize=(12, 6))\n",
    "    prediction_plot(df, predictions, true_solutions, ax, error, n_train, float_precision, sampler, epsilon)\n",
    "    plt.show()\n",
    "    \n",
    "widgets.interact(\n",
    "    jupyter_plot_predictions,\n",
    "    epsilon=widgets.Dropdown(options=epsilons2try.tolist(), description=r'$\\varepsilon$: '),\n",
    "    error=widgets.Dropdown(options=[L2, H1], description='Error: '),\n",
    "    n_train=widgets.Dropdown(options=n_train, description='N train: '),\n",
    "    float_precision=widgets.Dropdown(options=float_precision, description='Float precision: '),\n",
    "    sampler=widgets.Dropdown(options=sampler, description='Sampling method: ')\n",
    "    )"
   ]
  }
 ],
 "metadata": {
  "kernelspec": {
   "display_name": "adaptive-pinns-venv",
   "language": "python",
   "name": "venv"
  },
  "language_info": {
   "codemirror_mode": {
    "name": "ipython",
    "version": 3
   },
   "file_extension": ".py",
   "mimetype": "text/x-python",
   "name": "python",
   "nbconvert_exporter": "python",
   "pygments_lexer": "ipython3",
   "version": "3.6.9"
  }
 },
 "nbformat": 4,
 "nbformat_minor": 4
}