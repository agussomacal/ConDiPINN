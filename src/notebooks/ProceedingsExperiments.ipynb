{
 "cells": [
  {
   "cell_type": "code",
   "execution_count": 22,
   "metadata": {
    "collapsed": false,
    "jupyter": {
     "outputs_hidden": false
    },
    "pycharm": {
     "name": "#%%\n"
    }
   },
   "outputs": [],
   "source": [
    "import matplotlib.pylab as plt\n",
    "import seaborn as sns\n",
    "import numpy as np\n",
    "import pandas as pd\n",
    "\n",
    "import warnings\n",
    "warnings.filterwarnings(\"ignore\")\n",
    "\n",
    "import sys \n",
    "import os\n",
    "src_path = os.path.abspath(os.path.join(os.getcwd(), os.pardir))\n",
    "project_path = os.path.abspath(os.path.join(src_path, os.pardir))\n",
    "sys.path.insert(1, src_path)\n",
    "sys.path.insert(1, project_path)\n",
    "\n",
    "from experiments.experiment_main import prediction_plot, error_plots_flexible, collect_data, L2, H1, models_color_dict\n",
    "from src.experiments.Proceedings.parameters import epsilons2try\n",
    "from experiments.Proceedings.parameters import k, alpha\n",
    "from lib.utils import NamedPartial\n",
    "\n",
    "import ipywidgets as widgets\n",
    "\n",
    "data_experiment_name = \"Proceedings\""
   ]
  },
  {
   "cell_type": "markdown",
   "metadata": {
    "pycharm": {
     "name": "#%% md\n"
    }
   },
   "source": [
    "# Visualizing experiments\n",
    "\n",
    "Explore how each method behaves for different $\\varepsilon$, K, float_precision, sampling method. Plots for error as a function of $\\varepsilon$; time and accurcy and predictions plots are available."
   ]
  },
  {
   "cell_type": "code",
   "execution_count": 27,
   "metadata": {
    "collapsed": false,
    "jupyter": {
     "outputs_hidden": false
    },
    "pycharm": {
     "name": "#%%\n"
    }
   },
   "outputs": [
    {
     "data": {
      "application/vnd.jupyter.widget-view+json": {
       "model_id": "635944e8a2d245a48665bd9c608c9de9",
       "version_major": 2,
       "version_minor": 0
      },
      "text/plain": [
       "interactive(children=(Dropdown(description='experiment: ', options=('n_train', 'float_precision', 'sampling_me…"
      ]
     },
     "metadata": {},
     "output_type": "display_data"
    },
    {
     "data": {
      "text/plain": [
       "<function __main__.show_experiment(experiment_name)>"
      ]
     },
     "execution_count": 27,
     "metadata": {},
     "output_type": "execute_result"
    }
   ],
   "source": [
    "def show_experiment(experiment_name):\n",
    "    if experiment_name == \"n_train\":\n",
    "        from experiments.Proceedings.n_train import n_train\n",
    "        from experiments.Proceedings.n_train import float_precision\n",
    "        from experiments.Proceedings.n_train import sampler\n",
    "    elif experiment_name == \"sampling_method\":\n",
    "        from experiments.Proceedings.sampling_method import n_train\n",
    "        from experiments.Proceedings.sampling_method import float_precision\n",
    "        from experiments.Proceedings.sampling_method import sampler\n",
    "    elif experiment_name == \"float_precision\":\n",
    "        from experiments.Proceedings.float_precision import n_train\n",
    "        from experiments.Proceedings.float_precision import float_precision\n",
    "        from experiments.Proceedings.float_precision import sampler\n",
    "    else:\n",
    "        raise Exception(\"Only n_train, sampling_method and float_precision experiments are specyfied.\")\n",
    "    \n",
    "    \n",
    "    df, predictions, true_solutions = collect_data(data_experiment_name, k=k, alpha=alpha, \n",
    "                                                   n_train=n_train, sampler=sampler, float_precision=float_precision)\n",
    "\n",
    "    def jupyter_plot_computation_time_accuracy(epsilon, error, float_precision, sampler, n_train):\n",
    "        if len(float_precision) > 1:\n",
    "            hue = \"float_precision\"\n",
    "        if len(sampler) > 1:\n",
    "            hue = \"sampler\"\n",
    "        if len(n_train) > 1:\n",
    "            hue = \"n_train\"\n",
    "\n",
    "        filter_dict = {\"epsilon\": epsilon}\n",
    "\n",
    "        fig, ax = plt.subplots(ncols=2, figsize=(14, 6))\n",
    "\n",
    "        sns.boxenplot(data=df[(df[list(filter_dict)] == pd.Series(filter_dict)).all(axis=1)], y=\"time\", x=\"model_name\",\n",
    "                      hue=hue, ax=ax[0])\n",
    "        ax[0].set_yscale(\"log\")\n",
    "        ax[0].set_title(\"Computing time\")\n",
    "\n",
    "        sns.boxenplot(data=df[(df[list(filter_dict)] == pd.Series(filter_dict)).all(axis=1)], y=H1, x=\"model_name\",\n",
    "                      hue=hue, ax=ax[1])\n",
    "        ax[1].set_yscale(\"log\")\n",
    "        ax[1].set_title(\"Accuracy by number of train sampling points.\")\n",
    "\n",
    "        plt.show()\n",
    "\n",
    "    def jupyter_plot_predictions(epsilon, error, n_train, float_precision, sampler):\n",
    "\n",
    "        filter_dict = {\"epsilon\": epsilon, \"n_train\": n_train, \"float_precision\":float_precision, \"sampler\":sampler}\n",
    "        fig, ax = plt.subplots(figsize=(12, 6))\n",
    "        prediction_plot(df[(df[list(filter_dict)] == pd.Series(filter_dict)).all(axis=1)], predictions, true_solutions, ax, error, n_train, float_precision, sampler, epsilon)\n",
    "        plt.show()\n",
    "\n",
    "    summary_stattistic_functions_dict = {\"min\": np.min, \"max\": np.max, \"median\": np.median, \"mean\": np.mean} \n",
    "\n",
    "    def jupyter_plot_error_curves(statistic, error, n_train, float_precision, sampler):\n",
    "        aggfunc = summary_stattistic_functions_dict[statistic]\n",
    "        filter_dict = {\"n_train\": n_train, \"float_precision\":float_precision, \"sampler\":sampler}\n",
    "        fig, ax = plt.subplots(figsize=(12, 6))\n",
    "        error_plots_flexible(df[(df[list(filter_dict)] == pd.Series(filter_dict)).all(axis=1)], ax, error_name=error, label_var=\"model_name\", x_var=\"epsilon\",\n",
    "                             aggfunc=aggfunc, color_dict=models_color_dict, n_train=n_train)\n",
    "        ax.set_ylim((1e-9, 1))\n",
    "        plt.show()\n",
    "    \n",
    "    widgets.interact(\n",
    "        jupyter_plot_error_curves,\n",
    "        statistic=widgets.Dropdown(options=list(summary_stattistic_functions_dict.keys()), description='Summary statistic: '),\n",
    "        error=widgets.Dropdown(options=[L2, H1], description='Error: '),\n",
    "        n_train=widgets.Dropdown(options=n_train, description='N train: '),\n",
    "        float_precision=widgets.Dropdown(options=float_precision, description='Float precision: '),\n",
    "        sampler=widgets.Dropdown(options=sampler, description='Sampling method: ')\n",
    "        )\n",
    "    \n",
    "    widgets.interact(\n",
    "        jupyter_plot_predictions,\n",
    "        epsilon=widgets.Dropdown(options=epsilons2try.tolist(), description=r'$\\varepsilon$: '),\n",
    "        error=widgets.Dropdown(options=[L2, H1], description='Error: '),\n",
    "        n_train=widgets.Dropdown(options=n_train, description='N train: '),\n",
    "        float_precision=widgets.Dropdown(options=float_precision, description='Float precision: '),\n",
    "        sampler=widgets.Dropdown(options=sampler, description='Sampling method: ')\n",
    "        )\n",
    "    \n",
    "    widgets.interact(\n",
    "        jupyter_plot_computation_time_accuracy,\n",
    "        epsilon=widgets.Dropdown(options=epsilons2try.tolist(), description=r'$\\varepsilon$: '),\n",
    "        error=widgets.Dropdown(options=[L2, H1], description='Error: '),\n",
    "        float_precision=[float_precision],\n",
    "        sampler=[sampler],\n",
    "        n_train=[n_train]\n",
    "        )\n",
    "    \n",
    "widgets.interact(\n",
    "    show_experiment,\n",
    "    experiment_name=widgets.Dropdown(options=[\"n_train\", \"float_precision\", \"sampling_method\"], description='experiment: ')\n",
    "    )"
   ]
  }
 ],
 "metadata": {
  "kernelspec": {
   "display_name": "adaptive-pinns-venv",
   "language": "python",
   "name": "venv"
  },
  "language_info": {
   "codemirror_mode": {
    "name": "ipython",
    "version": 3
   },
   "file_extension": ".py",
   "mimetype": "text/x-python",
   "name": "python",
   "nbconvert_exporter": "python",
   "pygments_lexer": "ipython3",
   "version": "3.6.9"
  }
 },
 "nbformat": 4,
 "nbformat_minor": 4
}
